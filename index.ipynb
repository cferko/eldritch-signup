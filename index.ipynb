{
 "cells": [
  {
   "cell_type": "markdown",
   "metadata": {},
   "source": [
    "## Welcome to Caeros!\n",
    "\n",
    "This is the signup page for the Eldritch edularp, to be held at the spring 2016 session of jtTalks.\n",
    "\n",
    "To reserve your spot in the game, you will need to create a character -- don't worry, this will only take a few minutes. Click inside of the next cell, which says `%run setup.py`, and hit `Shift+Enter` to run it."
   ]
  },
  {
   "cell_type": "code",
   "execution_count": 15,
   "metadata": {
    "collapsed": false
   },
   "outputs": [
    {
     "name": "stdout",
     "output_type": "stream",
     "text": [
      "Eldritch setup complete.\n"
     ]
    }
   ],
   "source": [
    "%run setup.py"
   ]
  },
  {
   "cell_type": "markdown",
   "metadata": {},
   "source": [
    "This has created a new empty character with the name `me`. You can access its attributes using the `.` operator."
   ]
  },
  {
   "cell_type": "code",
   "execution_count": 11,
   "metadata": {
    "collapsed": false
   },
   "outputs": [
    {
     "name": "stdout",
     "output_type": "stream",
     "text": [
      "None\n"
     ]
    }
   ],
   "source": [
    "print me.character_name"
   ]
  },
  {
   "cell_type": "markdown",
   "metadata": {},
   "source": [
    "First you will need to assign your character a race. To do this, you use the `=` operator, which sets the value of `me.name` equal to something.\n",
    "\n",
    "There are three races in our game setting:\n",
    "* Humans are the most widespread of the civilized races. They are the most skilled with magic and some humans have eldritch marks, which give them additional magical abilities.\n",
    "* Forgelings are a race of intelligent, self-aware machines. They were created by humans to fight in the Last War, but were recently given their freedom.\n",
    "* Kalashi are a hybrid race, born thousands of years ago when incorporeal spirits from the realm of dreams (called Kal Dorn) fused with the souls of human monks.\n",
    "\n",
    "Choose one of these races and set your character's `race` attribute in the next cell using the `=` operator. For example, to choose a Forgeling character, type `me.race = \"Forgeling\"` in the next cell, then hit `Shift+Enter`."
   ]
  },
  {
   "cell_type": "code",
   "execution_count": 20,
   "metadata": {
    "collapsed": true
   },
   "outputs": [],
   "source": [
    "me.race=\"Forgeling\""
   ]
  },
  {
   "cell_type": "markdown",
   "metadata": {},
   "source": [
    "Next you will need to assign your character a name. To do this, you will again `=` operator, this time to set the value of `me.name` equal to something. Please also enter your real-world name and your `student.jtasd.org` email address for attendance purposes."
   ]
  },
  {
   "cell_type": "code",
   "execution_count": 24,
   "metadata": {
    "collapsed": true
   },
   "outputs": [],
   "source": [
    "me.character_name = 'Type your character name between the quotes here'\n",
    "me.real_name = \"Type your real name between the quotes here\"\n",
    "me.email = \"Type your student.jtasd.org email between the quotes here\""
   ]
  },
  {
   "cell_type": "markdown",
   "metadata": {},
   "source": [
    "For some examples of character names in Caeros, the setting for our game, you can use `random_name`. This is a __function__, which is like a machine that takes in some inputs and returns some output. In this case, the function takes in a race and a gender and outputs an example name."
   ]
  },
  {
   "cell_type": "code",
   "execution_count": null,
   "metadata": {
    "collapsed": true
   },
   "outputs": [],
   "source": [
    "print random_name(race=\"Kalashi\", gender=\"Male\")"
   ]
  },
  {
   "cell_type": "markdown",
   "metadata": {},
   "source": [
    "To get many examples of names, you can execute the `random_name` function many times."
   ]
  },
  {
   "cell_type": "code",
   "execution_count": null,
   "metadata": {
    "collapsed": true
   },
   "outputs": [],
   "source": [
    "for i in range(10):\n",
    "    print random_name(race=\"Forgeling\", gender=None)"
   ]
  },
  {
   "cell_type": "markdown",
   "metadata": {},
   "source": [
    "Notice that all Forgelings are genderless."
   ]
  },
  {
   "cell_type": "markdown",
   "metadata": {},
   "source": [
    "Finally, you will need to choose which of the Marked Houses your character belongs to. These are powerful factions in the world of Caeros that control the government and economy; your house determines which group you will work with during the game and the quest you will work on. The twelve houses are Cadon, Donric, Ghammara, Jeordo, Kjaldar, Larenthil, Micaeli, Oraite, Phaelanmyr, Saryn, Thagash, and Vernalis. To read about a particular house, you can use the `get_info` function."
   ]
  },
  {
   "cell_type": "code",
   "execution_count": null,
   "metadata": {
    "collapsed": true
   },
   "outputs": [],
   "source": [
    "print get_info(Cadon)"
   ]
  },
  {
   "cell_type": "markdown",
   "metadata": {},
   "source": [
    "To read about all of the houses, you can print all of their information snippets."
   ]
  },
  {
   "cell_type": "code",
   "execution_count": null,
   "metadata": {
    "collapsed": true
   },
   "outputs": [],
   "source": [
    "for house in marked_houses:\n",
    "    print get_info(house)"
   ]
  },
  {
   "cell_type": "markdown",
   "metadata": {},
   "source": [
    "The groups in our game will be limited to 4 students each, so you may not get your first choice of house. We ask you to rank your top choices in order by entering them in the list below. For example, if your top choice is House Kjaldar, your second choice is House Vernalis, and your third choice is House Jeordo, you would run the following cell:"
   ]
  },
  {
   "cell_type": "code",
   "execution_count": 21,
   "metadata": {
    "collapsed": true
   },
   "outputs": [],
   "source": [
    "me.house = [\"Kjaldar\", \"Vernalis\", \"Jeordo\"]"
   ]
  },
  {
   "cell_type": "markdown",
   "metadata": {},
   "source": [
    "Change the above cell to rank as many choices as you want. If you don't care, enter `me.house = []` and we will assign you to a house randomly.\n",
    "\n",
    "That's it! Once you have picked a name, race, and house as above, you can save your character using the `%checkpoint` command by running the cell below."
   ]
  },
  {
   "cell_type": "code",
   "execution_count": 26,
   "metadata": {
    "collapsed": false
   },
   "outputs": [
    {
     "name": "stdout",
     "output_type": "stream",
     "text": [
      "there was a problem\n"
     ]
    }
   ],
   "source": [
    "%checkpoint"
   ]
  },
  {
   "cell_type": "markdown",
   "metadata": {},
   "source": [
    "If the checkpoint command runs successfully, you are registered for Eldritch! You will receive an email confirmation from me (cferko) within a day or so.\n",
    "\n",
    "That's all that you need to do for now. If you would like to work on an optional tutorial to prepare for the game, you can do so by clicking here. Those that complete the tutorials will begin the game with additional experience points and get preference in receiving their top-choice Houses."
   ]
  },
  {
   "cell_type": "code",
   "execution_count": 25,
   "metadata": {
    "collapsed": false
   },
   "outputs": [
    {
     "name": "stdout",
     "output_type": "stream",
     "text": [
      "True\n"
     ]
    }
   ],
   "source": [
    "print (me.character_name != None and\n",
    "                me.real_name != None and\n",
    "                me.email != None and\n",
    "                me.race != None and\n",
    "                me.house != None)"
   ]
  },
  {
   "cell_type": "code",
   "execution_count": null,
   "metadata": {
    "collapsed": true
   },
   "outputs": [],
   "source": []
  }
 ],
 "metadata": {
  "kernelspec": {
   "display_name": "Python 2",
   "language": "python",
   "name": "python2"
  },
  "language_info": {
   "codemirror_mode": {
    "name": "ipython",
    "version": 2
   },
   "file_extension": ".py",
   "mimetype": "text/x-python",
   "name": "python",
   "nbconvert_exporter": "python",
   "pygments_lexer": "ipython2",
   "version": "2.7.11"
  }
 },
 "nbformat": 4,
 "nbformat_minor": 0
}
